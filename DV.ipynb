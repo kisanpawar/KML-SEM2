{
  "nbformat": 4,
  "nbformat_minor": 0,
  "metadata": {
    "colab": {
      "provenance": [],
      "authorship_tag": "ABX9TyMwOsvg0XP7gD2oRAfoPkds",
      "include_colab_link": true
    },
    "kernelspec": {
      "name": "python3",
      "display_name": "Python 3"
    },
    "language_info": {
      "name": "python"
    }
  },
  "cells": [
    {
      "cell_type": "markdown",
      "metadata": {
        "id": "view-in-github",
        "colab_type": "text"
      },
      "source": [
        "<a href=\"https://colab.research.google.com/github/kisanpawar/KML-SEM2/blob/main/DV.ipynb\" target=\"_parent\"><img src=\"https://colab.research.google.com/assets/colab-badge.svg\" alt=\"Open In Colab\"/></a>"
      ]
    },
    {
      "cell_type": "code",
      "execution_count": 1,
      "metadata": {
        "id": "ndAusR5BYm0M"
      },
      "outputs": [],
      "source": [
        "import numpy as np"
      ]
    },
    {
      "cell_type": "code",
      "source": [
        "data = [[1,2,3],[4,5,6],[7,8,9]]"
      ],
      "metadata": {
        "id": "6xQd8zHpYriL"
      },
      "execution_count": 2,
      "outputs": []
    },
    {
      "cell_type": "code",
      "source": [
        "convertArray = np.array(data)\n",
        "print(convertArray)"
      ],
      "metadata": {
        "colab": {
          "base_uri": "https://localhost:8080/"
        },
        "id": "ia16a9-mYybW",
        "outputId": "d6ea91cc-ec6b-4cfc-fc4b-5230a4ca7d00"
      },
      "execution_count": 3,
      "outputs": [
        {
          "output_type": "stream",
          "name": "stdout",
          "text": [
            "[[1 2 3]\n",
            " [4 5 6]\n",
            " [7 8 9]]\n"
          ]
        }
      ]
    },
    {
      "cell_type": "code",
      "source": [
        "print(convertArray[:1])\n",
        "print(np.sum(convertArray[:1]).flatten()) #flatten again add into array\n",
        "print(np.prod(convertArray[:3]).flatten()) #flatten again add into array"
      ],
      "metadata": {
        "colab": {
          "base_uri": "https://localhost:8080/"
        },
        "id": "pza9DZ_hY7fN",
        "outputId": "60f7681b-1c5d-4cbc-9a6a-367bf1d5bbc7"
      },
      "execution_count": 16,
      "outputs": [
        {
          "output_type": "stream",
          "name": "stdout",
          "text": [
            "[[1 2 3]]\n",
            "[6]\n",
            "[362880]\n"
          ]
        }
      ]
    },
    {
      "cell_type": "code",
      "source": [
        "import pandas as pd\n",
        "import numpy as np\n",
        "series =  pd.Series(np.random.randint(10,100,100))\n",
        "\n",
        "series = series.abs()\n",
        "\n",
        "mean =  series.mean()\n",
        "print(mean)\n",
        "median_val = series.median()\n",
        "print(median_val)\n",
        "\n",
        "std_dev =  series.std()\n",
        "print(std_dev)\n",
        "\n",
        "skewness = series.skew()\n",
        "print(skewness)\n",
        "\n",
        "top_10 = series.nlargest(10)\n",
        "print(mean)\n",
        "\n",
        "cumulative_series = series.cumsum()\n",
        "print(cumulative_series)\n",
        "\n",
        "print(\"Top 10 values:\\n\", top_10)"
      ],
      "metadata": {
        "colab": {
          "base_uri": "https://localhost:8080/"
        },
        "id": "xW0a9_VcfaPQ",
        "outputId": "f2ac2441-c97f-45ce-fcdf-1db1dc72fd27"
      },
      "execution_count": 1,
      "outputs": [
        {
          "output_type": "stream",
          "name": "stdout",
          "text": [
            "54.26\n",
            "56.0\n",
            "24.945848422840893\n",
            "-0.008377490208577674\n",
            "54.26\n",
            "0       14\n",
            "1       36\n",
            "2       72\n",
            "3      124\n",
            "4      183\n",
            "      ... \n",
            "95    5255\n",
            "96    5288\n",
            "97    5341\n",
            "98    5385\n",
            "99    5426\n",
            "Length: 100, dtype: int64\n",
            "Top 10 values:\n",
            " 57    98\n",
            "38    96\n",
            "55    96\n",
            "64    96\n",
            "39    95\n",
            "66    95\n",
            "75    90\n",
            "82    90\n",
            "25    89\n",
            "80    89\n",
            "dtype: int64\n"
          ]
        }
      ]
    },
    {
      "cell_type": "code",
      "source": [
        "# Create DataFrame\n",
        "df = pd.DataFrame(np.random.randint(1, 1001, (1000, 5)), columns=['A',\n",
        "'B', 'C', 'D', 'E'])\n",
        "# Add column 'F' as the product of A and B\n",
        "df['F'] = df['A'] * df['B']\n",
        "# Compute row-wise statistics\n",
        "df['Row_Sum'] = df.sum(axis=1)\n",
        "df['Row_Mean'] = df.mean(axis=1)\n",
        "df['Row_Variance'] = df.var(axis=1)\n",
        "# Filter rows where C > 700 and D is even\n",
        "filtered_df = df[(df['C'] > 700) & (df['D'] % 2 == 0)]\n",
        "print(filtered_df.head())\n"
      ],
      "metadata": {
        "colab": {
          "base_uri": "https://localhost:8080/"
        },
        "id": "tPQ6A7yDf-WX",
        "outputId": "f3966547-0b78-4abc-efcc-a130c16fc18d"
      },
      "execution_count": 32,
      "outputs": [
        {
          "output_type": "stream",
          "name": "stdout",
          "text": [
            "      A    B    C    D    E       F  Row_Sum       Row_Mean  Row_Variance\n",
            "5   927  526  861  850  614  487602   491380  140394.285714  4.874844e+10\n",
            "6   331  667  997  944  577  220777   224293   64083.714286  1.004365e+10\n",
            "15  860  292  898  896  849  251120   254915   72832.857143  1.298767e+10\n",
            "16  810  386  756  856   65  312660   315533   90152.285714  2.006106e+10\n",
            "18  659  155  769  566   60  102145   104354   29815.428571  2.157430e+09\n"
          ]
        }
      ]
    },
    {
      "cell_type": "code",
      "source": [],
      "metadata": {
        "colab": {
          "base_uri": "https://localhost:8080/"
        },
        "id": "KG118AZ8jLYp",
        "outputId": "486c475e-0923-46b4-b54e-f656b6a0da70"
      },
      "execution_count": 29,
      "outputs": [
        {
          "output_type": "stream",
          "name": "stdout",
          "text": [
            "Empty DataFrame\n",
            "Columns: [A, B, C, D, E, F, Row_Sum, Row_Mean, Row_Variance]\n",
            "Index: []\n"
          ]
        }
      ]
    },
    {
      "cell_type": "code",
      "source": [
        "chunk_size = 50000\n",
        "chunks = pd.read_csv())\n"
      ],
      "metadata": {
        "id": "ZnIx65SsjOpd"
      },
      "execution_count": 40,
      "outputs": []
    },
    {
      "cell_type": "code",
      "source": [
        "#Write a map-reduce program to count the number of occurrences of each alphabetic\n",
        "#character in the given dataset. The count for each letter should be case-insensitive (i.e., include\n",
        "#both upper-case and lower-case versions of the letter; Ignore non-alphabetic character\n",
        "from collections import Counter\n",
        "import re\n",
        "def map_function(text):\n",
        " # Remove non-alphabetic characters and convert text to lowercase\n",
        " cleaned_text = re.sub(r'[^a-zA-Z]', '', text.lower())\n",
        " # Return list of characters\n",
        " return list(cleaned_text)\n",
        "def reduce_function(mapped_data):\n",
        " # Use Counter to count occurrences of each character\n",
        " return dict(Counter(mapped_data))\n",
        "\n",
        "file_path = r\"sample_data/map.txt\"\n",
        "with open(file_path, 'r') as file:\n",
        "  dataset = file.read()\n",
        "  mapped_data = map_function(dataset)\n",
        "  reduced_data = reduce_function(mapped_data)\n",
        "  print(\"Character Occurrences:\")\n",
        "  for char, count in reduced_data.items():\n",
        "    print(f\"{char}: {count}\")\n",
        "\n",
        "\n",
        "\n"
      ],
      "metadata": {
        "colab": {
          "base_uri": "https://localhost:8080/"
        },
        "id": "QEuD_tQqqdC6",
        "outputId": "bbfbf7aa-7c3d-4ef8-8962-03b4fdecc984"
      },
      "execution_count": 11,
      "outputs": [
        {
          "output_type": "stream",
          "name": "stdout",
          "text": [
            "Character Occurrences:\n",
            "h: 3\n",
            "e: 6\n",
            "l: 5\n",
            "o: 3\n",
            "w: 1\n",
            "r: 2\n",
            "d: 2\n",
            "t: 3\n",
            "i: 2\n",
            "s: 3\n",
            "a: 5\n",
            "m: 2\n",
            "p: 3\n",
            "u: 2\n",
            "c: 2\n",
            "x: 1\n",
            "n: 1\n",
            "b: 1\n"
          ]
        }
      ]
    },
    {
      "cell_type": "code",
      "source": [
        " #Write a map-reduce program to count the number of occurrences of each word in the given\n",
        "#dataset. (A word is defined as any string of alphabetic characters appearing between nonalphabetic characters like nature's is two words. The count should be case-insensitive. If a word\n",
        "#occurs multiple times in a line, all should be counted)\n",
        "\n",
        "import re\n"
      ],
      "metadata": {
        "id": "XEw7M-zkAvtS"
      },
      "execution_count": 12,
      "outputs": []
    },
    {
      "cell_type": "code",
      "source": [
        "from functools import reduce\n",
        "from collections import defaultdict\n",
        "dataset = [\n",
        " \"Nature's beauty is unmatched in Nature's own way.\",\n",
        " \"The quick brown fox jumps over the lazy dog.\",\n",
        " \"Hello world! This is a test, hello world.\"\n",
        "]\n",
        "def mapper(line):\n",
        " # Use regular expression to split words, considering alphabetic characters only.\n",
        " words = re.findall(r'[a-zA-Z]+', line.lower())\n",
        " return words"
      ],
      "metadata": {
        "id": "6LSxUKFeEI9r"
      },
      "execution_count": null,
      "outputs": []
    }
  ]
}